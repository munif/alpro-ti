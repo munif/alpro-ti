{
 "cells": [
  {
   "cell_type": "markdown",
   "metadata": {},
   "source": [
    "# While Loop\n",
    "## Pengertian\n",
    "`while-loop` adalah bentuk perulangan yang menggunakan perintah `while`.  \n",
    "Perbedaan utamanya dibandingkan dengan `for loop` adalah pada penentuan batas perulangan dan step perulangannya yang harus dilakukan secara **manual**.  \n",
    "Apabila penentuan batas atau step tidak sesuai, maka program tidak akan pernah berhenti (*infinite looping*)."
   ]
  },
  {
   "cell_type": "code",
   "execution_count": 1,
   "metadata": {
    "collapsed": false
   },
   "outputs": [
    {
     "name": "stdout",
     "output_type": "stream",
     "text": [
      "hello\n",
      "hello\n",
      "hello\n",
      "hello\n",
      "hello\n"
     ]
    }
   ],
   "source": [
    "# batas awal\n",
    "i = 0\n",
    "\n",
    "# batas akhirnya: 5\n",
    "while i < 5:\n",
    "    print 'hello'\n",
    "    \n",
    "    # naiknya berapa\n",
    "    i = i + 1"
   ]
  },
  {
   "cell_type": "code",
   "execution_count": null,
   "metadata": {
    "collapsed": true
   },
   "outputs": [],
   "source": []
  }
 ],
 "metadata": {
  "kernelspec": {
   "display_name": "Python 2",
   "language": "python",
   "name": "python2"
  },
  "language_info": {
   "codemirror_mode": {
    "name": "ipython",
    "version": 2
   },
   "file_extension": ".py",
   "mimetype": "text/x-python",
   "name": "python",
   "nbconvert_exporter": "python",
   "pygments_lexer": "ipython2",
   "version": "2.7.13"
  }
 },
 "nbformat": 4,
 "nbformat_minor": 2
}
