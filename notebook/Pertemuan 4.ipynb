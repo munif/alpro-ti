{
 "cells": [
  {
   "cell_type": "markdown",
   "metadata": {},
   "source": [
    "# Materi\n",
    "1. Tipe Data\n",
    "2. Variabel\n",
    "3. Input/Output dalam Python\n",
    "\n",
    "Referensi\n",
    "1. https://en.wikibooks.org/wiki/Python_Programming"
   ]
  },
  {
   "cell_type": "markdown",
   "metadata": {},
   "source": [
    "## Tipe data"
   ]
  },
  {
   "cell_type": "markdown",
   "metadata": {},
   "source": [
    "### Angka Bulat (integer, int)\n",
    "\n",
    "Angka bulat/integer adalah bilangan bulat (bukan desimal)."
   ]
  },
  {
   "cell_type": "code",
   "execution_count": 4,
   "metadata": {
    "collapsed": false
   },
   "outputs": [
    {
     "name": "stdout",
     "output_type": "stream",
     "text": [
      "10\n"
     ]
    }
   ],
   "source": [
    " # bilangan bulat\n",
    "a = 10\n",
    "\n",
    "print a"
   ]
  },
  {
   "cell_type": "code",
   "execution_count": 12,
   "metadata": {
    "collapsed": false
   },
   "outputs": [
    {
     "name": "stdout",
     "output_type": "stream",
     "text": [
      "10.25\n",
      "10\n",
      "10\n"
     ]
    }
   ],
   "source": [
    "b = 10.25\n",
    "print b\n",
    "\n",
    "# Konversi ke dalam integer --> int()\n",
    "print int(b)\n",
    "\n",
    "c = 10.8\n",
    "d = int(c)\n",
    "print d"
   ]
  },
  {
   "cell_type": "markdown",
   "metadata": {},
   "source": [
    "### Angka Desimal (floating point, float)"
   ]
  },
  {
   "cell_type": "markdown",
   "metadata": {},
   "source": [
    "Floating point (float) adalah data angka dalam bentuk desimal."
   ]
  },
  {
   "cell_type": "code",
   "execution_count": 14,
   "metadata": {
    "collapsed": false
   },
   "outputs": [
    {
     "name": "stdout",
     "output_type": "stream",
     "text": [
      "21.0\n"
     ]
    }
   ],
   "source": [
    "e = 10.5\n",
    "f = e * 2\n",
    "\n",
    "print f"
   ]
  },
  {
   "cell_type": "code",
   "execution_count": 15,
   "metadata": {
    "collapsed": false
   },
   "outputs": [
    {
     "name": "stdout",
     "output_type": "stream",
     "text": [
      "10.0\n"
     ]
    }
   ],
   "source": [
    "# Konversi angka int ke float\n",
    "\n",
    "g = float(10)\n",
    "print g"
   ]
  },
  {
   "cell_type": "markdown",
   "metadata": {},
   "source": [
    "### String\n",
    "String (teks) adalah tipe data untuk teks, huruf, simbol, dan sebagainya."
   ]
  },
  {
   "cell_type": "code",
   "execution_count": 22,
   "metadata": {
    "collapsed": false
   },
   "outputs": [
    {
     "name": "stdout",
     "output_type": "stream",
     "text": [
      "Rere Lalala\n"
     ]
    }
   ],
   "source": [
    "h = \"Rere\"\n",
    "i = \" Lalala\"\n",
    "\n",
    "print h + i"
   ]
  },
  {
   "cell_type": "markdown",
   "metadata": {},
   "source": [
    "## Operasi Aritmatika\n",
    "\n",
    "+, -, *, /, (), %"
   ]
  },
  {
   "cell_type": "code",
   "execution_count": 35,
   "metadata": {
    "collapsed": false
   },
   "outputs": [
    {
     "name": "stdout",
     "output_type": "stream",
     "text": [
      "20\n",
      "30.5\n",
      "Aku ganteng\n",
      "Aku ganteng\n"
     ]
    }
   ],
   "source": [
    "# Penjumlahan\n",
    "# Tipe data angka\n",
    "a = 10 + 10\n",
    "print a\n",
    "a = 10 + 20.5\n",
    "print a\n",
    "\n",
    "# Data string\n",
    "a = \"Aku \"\n",
    "b = \"ganteng\"\n",
    "print a + b\n",
    "print \"Aku \" + \"ganteng\""
   ]
  },
  {
   "cell_type": "code",
   "execution_count": 38,
   "metadata": {
    "collapsed": false
   },
   "outputs": [
    {
     "name": "stdout",
     "output_type": "stream",
     "text": [
      "7.5\n",
      "8\n"
     ]
    },
    {
     "ename": "TypeError",
     "evalue": "unsupported operand type(s) for -: 'str' and 'str'",
     "output_type": "error",
     "traceback": [
      "\u001b[0;31m---------------------------------------------------------------------------\u001b[0m",
      "\u001b[0;31mTypeError\u001b[0m                                 Traceback (most recent call last)",
      "\u001b[0;32m<ipython-input-38-e426abb841c5>\u001b[0m in \u001b[0;36m<module>\u001b[0;34m()\u001b[0m\n\u001b[1;32m     10\u001b[0m \u001b[0ma\u001b[0m \u001b[1;33m=\u001b[0m \u001b[1;34m\"Aku ganteng\"\u001b[0m\u001b[1;33m\u001b[0m\u001b[0m\n\u001b[1;32m     11\u001b[0m \u001b[0mb\u001b[0m \u001b[1;33m=\u001b[0m \u001b[1;34m\"ganteng\"\u001b[0m\u001b[1;33m\u001b[0m\u001b[0m\n\u001b[0;32m---> 12\u001b[0;31m \u001b[0mc\u001b[0m \u001b[1;33m=\u001b[0m \u001b[0ma\u001b[0m \u001b[1;33m-\u001b[0m \u001b[0mb\u001b[0m\u001b[1;33m\u001b[0m\u001b[0m\n\u001b[0m\u001b[1;32m     13\u001b[0m \u001b[1;32mprint\u001b[0m \u001b[0mc\u001b[0m\u001b[1;33m\u001b[0m\u001b[0m\n",
      "\u001b[0;31mTypeError\u001b[0m: unsupported operand type(s) for -: 'str' and 'str'"
     ]
    }
   ],
   "source": [
    "# Pengurangan --> hanya untuk ANGKA\n",
    "# Angka\n",
    "a = 10 - 2.5\n",
    "print a\n",
    "\n",
    "a = 10 - 2\n",
    "print a\n",
    "\n",
    "# String --> ERROR\n",
    "a = \"Aku ganteng\"\n",
    "b = \"ganteng\"\n",
    "c = a - b\n",
    "print c"
   ]
  },
  {
   "cell_type": "code",
   "execution_count": 40,
   "metadata": {
    "collapsed": false
   },
   "outputs": [
    {
     "name": "stdout",
     "output_type": "stream",
     "text": [
      "20\n",
      "25.0\n",
      "Aku ganteng. Aku ganteng. Aku ganteng. Aku ganteng. Aku ganteng. Aku ganteng. Aku ganteng. Aku ganteng. Aku ganteng. Aku ganteng. \n"
     ]
    }
   ],
   "source": [
    "# Perkalian\n",
    "# Angka\n",
    "a = 10 * 2\n",
    "print a\n",
    "\n",
    "a = 10 * 2.5\n",
    "print a\n",
    "\n",
    "# String --> khusus untuk Python\n",
    "a = \"Aku ganteng. \"\n",
    "b = 10\n",
    "c = a * b\n",
    "print c"
   ]
  },
  {
   "cell_type": "code",
   "execution_count": 50,
   "metadata": {
    "collapsed": false
   },
   "outputs": [
    {
     "name": "stdout",
     "output_type": "stream",
     "text": [
      "4.0\n"
     ]
    },
    {
     "ename": "TypeError",
     "evalue": "unsupported operand type(s) for /: 'str' and 'str'",
     "output_type": "error",
     "traceback": [
      "\u001b[0;31m---------------------------------------------------------------------------\u001b[0m",
      "\u001b[0;31mTypeError\u001b[0m                                 Traceback (most recent call last)",
      "\u001b[0;32m<ipython-input-50-240848c77694>\u001b[0m in \u001b[0;36m<module>\u001b[0;34m()\u001b[0m\n\u001b[1;32m      9\u001b[0m \u001b[0ma\u001b[0m \u001b[1;33m=\u001b[0m \u001b[1;34m\"Aku ganteng. \"\u001b[0m\u001b[1;33m\u001b[0m\u001b[0m\n\u001b[1;32m     10\u001b[0m \u001b[0mb\u001b[0m \u001b[1;33m=\u001b[0m \u001b[1;34m\"a\"\u001b[0m\u001b[1;33m\u001b[0m\u001b[0m\n\u001b[0;32m---> 11\u001b[0;31m \u001b[0mc\u001b[0m \u001b[1;33m=\u001b[0m \u001b[0ma\u001b[0m \u001b[1;33m/\u001b[0m \u001b[0mb\u001b[0m\u001b[1;33m\u001b[0m\u001b[0m\n\u001b[0m\u001b[1;32m     12\u001b[0m \u001b[1;32mprint\u001b[0m \u001b[0mc\u001b[0m\u001b[1;33m\u001b[0m\u001b[0m\n",
      "\u001b[0;31mTypeError\u001b[0m: unsupported operand type(s) for /: 'str' and 'str'"
     ]
    }
   ],
   "source": [
    "# Pembagian\n",
    "# Angka\n",
    "a = 10\n",
    "b = 2.5\n",
    "c = a / b\n",
    "print c\n",
    "\n",
    "# String --> ERROR\n",
    "a = \"Aku ganteng. \"\n",
    "b = \"a\"\n",
    "c = a / b\n",
    "print c"
   ]
  },
  {
   "cell_type": "code",
   "execution_count": 47,
   "metadata": {
    "collapsed": false
   },
   "outputs": [
    {
     "name": "stdout",
     "output_type": "stream",
     "text": [
      "0\n"
     ]
    }
   ],
   "source": [
    "# Modulus\n",
    "\n",
    "a = 27 % 9\n",
    "print a"
   ]
  },
  {
   "cell_type": "code",
   "execution_count": 71,
   "metadata": {
    "collapsed": false
   },
   "outputs": [
    {
     "name": "stdout",
     "output_type": "stream",
     "text": [
      "744\n",
      "-18\n",
      "3.2\n",
      "20\n",
      "11\n",
      "20\n",
      "33\n",
      "394\n"
     ]
    }
   ],
   "source": [
    "# Aturan kurung\n",
    "# PEMDAS: \n",
    "# Parentheses\n",
    "# Exponential\n",
    "# (Multiplication, Division) -> dikerjakan yang muncul dulu\n",
    "# (Addition, Subtraction)\n",
    "\n",
    "\n",
    "hasil = 186 * 24 / 6\n",
    "print hasil\n",
    "\n",
    "hasil = -9 * (25 + (-23))\n",
    "print hasil\n",
    "\n",
    "\n",
    "hasil = (-9 + 25) / 5.00\n",
    "print hasil\n",
    "\n",
    "hasil = 8 + 24 / 4 * 2\n",
    "print hasil\n",
    "\n",
    "hasil = 8 + 24 / (4 * 2)\n",
    "print hasil\n",
    "\n",
    "hasil = 30 - 3 * 4 + 2\n",
    "print hasil\n",
    "\n",
    "hasil = 36 / 4 *(5 - 2) + 6\n",
    "print hasil\n",
    "\n",
    "hasil = 23 * 3 * 2 + 5 * 19 + 10 * 17 - 9\n",
    "print hasil"
   ]
  },
  {
   "cell_type": "markdown",
   "metadata": {},
   "source": [
    "## Variabel\n",
    "\n",
    "Variable is **storage location** paired with an **associated symbolic name (an identifier)**, which contains some known or unknown **quantity of information referred to as a value**.\n",
    "\n",
    "### Aturan pembuatan nama variabel\n",
    "1. Menggunakan kombinasi alfabet, angka, dan simbol '_'.\n",
    "2. Sifatnya _case-sensitive_ (besar kecilnya huruf berpengaruh).\n",
    "3. Tidak boleh diawali dengan angka.\n",
    "\n",
    "### Aturan tidak resmi\n",
    "1. Nama variabel harus singkat, deskriptif, dan menggunakan kata benda.\n",
    "2. Nama variabel tidak boleh ambigu (makna ganda)."
   ]
  },
  {
   "cell_type": "code",
   "execution_count": 90,
   "metadata": {
    "collapsed": false
   },
   "outputs": [
    {
     "ename": "SyntaxError",
     "evalue": "invalid syntax (<ipython-input-90-e28ea4956aef>, line 20)",
     "output_type": "error",
     "traceback": [
      "\u001b[0;36m  File \u001b[0;32m\"<ipython-input-90-e28ea4956aef>\"\u001b[0;36m, line \u001b[0;32m20\u001b[0m\n\u001b[0;31m    1bb = 70.8\u001b[0m\n\u001b[0m      ^\u001b[0m\n\u001b[0;31mSyntaxError\u001b[0m\u001b[0;31m:\u001b[0m invalid syntax\n"
     ]
    }
   ],
   "source": [
    "a = 10\n",
    "b = 20\n",
    "c = \"Rere\"\n",
    "budi = \"budi\"\n",
    "budi = \"yudi\"\n",
    "\n",
    "# Kombinasi huruf, angka, tanda '_'\n",
    "tinggi = 170.5\n",
    "bb1 = 70.2\n",
    "bb2 = 70.5\n",
    "my_bb = 70.8\n",
    "\n",
    "# Case sensitive\n",
    "bb_saya = 60.5\n",
    "bb_Saya = 72.0\n",
    "\n",
    "print bb_saya, bb_Saya\n",
    "\n",
    "vr_muatan = 200.0\n",
    "v = 120.0\n",
    "\n",
    "\n",
    "# Tidak boleh diawali angka\n",
    "1bb = 70.8\n",
    "2bb = 80.8\n"
   ]
  },
  {
   "cell_type": "code",
   "execution_count": 78,
   "metadata": {
    "collapsed": false
   },
   "outputs": [
    {
     "name": "stdout",
     "output_type": "stream",
     "text": [
      "10 20 20\n",
      "10 30 20\n"
     ]
    }
   ],
   "source": [
    "a = 10\n",
    "b = 20\n",
    "c = b\n",
    "print a, b, c\n",
    "\n",
    "b = 30\n",
    "print a, b, c"
   ]
  },
  {
   "cell_type": "code",
   "execution_count": 81,
   "metadata": {
    "collapsed": false
   },
   "outputs": [
    {
     "name": "stdout",
     "output_type": "stream",
     "text": [
      "205.0\n"
     ]
    }
   ],
   "source": [
    "abc = 10\n",
    "xyz = 20.5\n",
    "\n",
    "print abc * xyz"
   ]
  },
  {
   "cell_type": "code",
   "execution_count": 93,
   "metadata": {
    "collapsed": false
   },
   "outputs": [
    {
     "name": "stdout",
     "output_type": "stream",
     "text": [
      "(5, 10)\n",
      "(5, 5, 10)\n",
      "(5, 10, 10)\n"
     ]
    }
   ],
   "source": [
    "red = 5\n",
    "blue = 10\n",
    "print (red, blue)\n",
    "\n",
    "yellow = red\n",
    "print (yellow, red, blue)\n",
    "\n",
    "red = blue\n",
    "print (yellow, red, blue)"
   ]
  },
  {
   "cell_type": "markdown",
   "metadata": {},
   "source": [
    "## Input/Output dalam Python"
   ]
  },
  {
   "cell_type": "markdown",
   "metadata": {},
   "source": [
    "### Input\n",
    "Untuk mendapatkan input dari user, maka kita dapat menggunakan fungsi `input()`."
   ]
  },
  {
   "cell_type": "code",
   "execution_count": null,
   "metadata": {
    "collapsed": true
   },
   "outputs": [],
   "source": []
  }
 ],
 "metadata": {
  "anaconda-cloud": {},
  "kernelspec": {
   "display_name": "Python [conda root]",
   "language": "python",
   "name": "conda-root-py"
  },
  "language_info": {
   "codemirror_mode": {
    "name": "ipython",
    "version": 2
   },
   "file_extension": ".py",
   "mimetype": "text/x-python",
   "name": "python",
   "nbconvert_exporter": "python",
   "pygments_lexer": "ipython2",
   "version": "2.7.12"
  }
 },
 "nbformat": 4,
 "nbformat_minor": 1
}
