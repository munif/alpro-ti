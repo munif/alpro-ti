{
 "cells": [
  {
   "cell_type": "markdown",
   "metadata": {},
   "source": [
    "# Perulangan Menggunakan For Loop\n",
    "Referensi\n",
    "1. https://docs.python.org/2.7/tutorial/controlflow.html"
   ]
  },
  {
   "cell_type": "markdown",
   "metadata": {},
   "source": [
    "## Looping menggunakan range()\n",
    "               range(a, b, c)\n",
    "a: batas awal  \n",
    "b: batas akhir  \n",
    "c: aturan naik/turun --> increment/decrement\n",
    "\n",
    "               range(a, b)\n",
    "a: batas awal  \n",
    "b: batas akhir  \n",
    "c: aturan naik/turun --> naik 1\n",
    "\n",
    "               range(a)\n",
    "a: batas awal --> 0  \n",
    "b: batas akhir --> kurang dari a"
   ]
  },
  {
   "cell_type": "code",
   "execution_count": 1,
   "metadata": {
    "collapsed": false
   },
   "outputs": [
    {
     "name": "stdout",
     "output_type": "stream",
     "text": [
      "hello\n",
      "hello\n",
      "hello\n",
      "hello\n",
      "hello\n"
     ]
    }
   ],
   "source": [
    "# Contoh tanpa loop\n",
    "print 'hello'\n",
    "print 'hello'\n",
    "print 'hello'\n",
    "print 'hello'\n",
    "print 'hello'"
   ]
  },
  {
   "cell_type": "code",
   "execution_count": 8,
   "metadata": {
    "collapsed": false
   },
   "outputs": [
    {
     "name": "stdout",
     "output_type": "stream",
     "text": [
      "0\n",
      "1\n",
      "2\n",
      "3\n",
      "4\n",
      "5\n",
      "6\n",
      "7\n",
      "8\n",
      "9\n"
     ]
    }
   ],
   "source": [
    "# range(a)\n",
    "for i in range(10):\n",
    "    print i"
   ]
  },
  {
   "cell_type": "code",
   "execution_count": 45,
   "metadata": {
    "collapsed": false
   },
   "outputs": [
    {
     "name": "stdout",
     "output_type": "stream",
     "text": [
      "Hello\n",
      "Hello\n",
      "Hello\n",
      "Hello\n",
      "Hello\n"
     ]
    }
   ],
   "source": [
    "# Contoh dengan loop\n",
    "\n",
    "#      0 <= a < 5\n",
    "#      a = 0, 1, 2, 3, 4\n",
    "\n",
    "for a in range(0, 5):\n",
    "    print('Hello')"
   ]
  },
  {
   "cell_type": "code",
   "execution_count": 3,
   "metadata": {
    "collapsed": false
   },
   "outputs": [
    {
     "name": "stdout",
     "output_type": "stream",
     "text": [
      "Daftar Mahasiswa\n",
      "1. Nama mahasiswa\n",
      "2. Nama mahasiswa\n",
      "3. Nama mahasiswa\n",
      "4. Nama mahasiswa\n",
      "5. Nama mahasiswa\n"
     ]
    }
   ],
   "source": [
    "# Contoh dengan loop\n",
    "print 'Daftar Mahasiswa'\n",
    "for a in range(1, 6):\n",
    "    print('%d. Nama mahasiswa' %(a))"
   ]
  },
  {
   "cell_type": "code",
   "execution_count": 4,
   "metadata": {
    "collapsed": false,
    "scrolled": false
   },
   "outputs": [
    {
     "name": "stdout",
     "output_type": "stream",
     "text": [
      "Masukkan batas n: 5\n",
      "1\n",
      "2\n",
      "3\n",
      "4\n",
      "5\n"
     ]
    }
   ],
   "source": [
    "# 1. Print semua bilangan natural dari 1 sampai dengan n\n",
    "\n",
    "n = input('Masukkan batas n: ')\n",
    "for i in range(1, n+1):\n",
    "    print('%d' %i)"
   ]
  },
  {
   "cell_type": "code",
   "execution_count": 5,
   "metadata": {
    "collapsed": false
   },
   "outputs": [
    {
     "name": "stdout",
     "output_type": "stream",
     "text": [
      "Masukkan batas n: 10\n",
      "10\n",
      "9\n",
      "8\n",
      "7\n",
      "6\n",
      "5\n",
      "4\n",
      "3\n",
      "2\n",
      "1\n"
     ]
    }
   ],
   "source": [
    "# 2. Print semua bilangan natural dari n sampai dengan 1\n",
    "\n",
    "n = input('Masukkan batas n: ')\n",
    "for i in range(n, 0, -1):\n",
    "    print('%d' %i)"
   ]
  },
  {
   "cell_type": "code",
   "execution_count": 6,
   "metadata": {
    "collapsed": false
   },
   "outputs": [
    {
     "name": "stdout",
     "output_type": "stream",
     "text": [
      "Masukkan angka: 7\n",
      "7 x 1 = 7\n",
      "7 x 2 = 14\n",
      "7 x 3 = 21\n",
      "7 x 4 = 28\n",
      "7 x 5 = 35\n",
      "7 x 6 = 42\n",
      "7 x 7 = 49\n",
      "7 x 8 = 56\n",
      "7 x 9 = 63\n",
      "7 x 10 = 70\n"
     ]
    }
   ],
   "source": [
    "# 3. Tabel perkalian bilangan\n",
    "bilangan = input('Masukkan angka: ')\n",
    "for i in range(1, 11):\n",
    "    hasil = bilangan * i\n",
    "    print(\"%d x %d = %d\" %(bilangan, i, hasil))"
   ]
  },
  {
   "cell_type": "code",
   "execution_count": 1,
   "metadata": {
    "collapsed": false
   },
   "outputs": [
    {
     "name": "stdout",
     "output_type": "stream",
     "text": [
      "Masukkan batas: 10\n",
      "3\n",
      "9\n",
      "27\n",
      "81\n",
      "243\n",
      "729\n",
      "2187\n",
      "6561\n",
      "19683\n",
      "59049\n"
     ]
    }
   ],
   "source": [
    "# 4. Hasil perkalian --> pangkat\n",
    "hasil = 1\n",
    "batas_akhir = input('Masukkan batas: ')\n",
    "for i in range(0, batas_akhir):\n",
    "    hasil = hasil * 3\n",
    "    print hasil"
   ]
  },
  {
   "cell_type": "code",
   "execution_count": 5,
   "metadata": {
    "collapsed": false
   },
   "outputs": [
    {
     "name": "stdout",
     "output_type": "stream",
     "text": [
      "Masukkan brooo: 10\n",
      "Perulangan 2: Hasil = 2\n",
      "Perulangan 4: Hasil = 6\n",
      "Perulangan 6: Hasil = 12\n",
      "Perulangan 8: Hasil = 20\n",
      "Perulangan 10: Hasil = 30\n"
     ]
    }
   ],
   "source": [
    "# 5. Jumlah bilangan genap dari 1 sampai dengan n\n",
    "n = input('Masukkan brooo: ')\n",
    "hasil = 0\n",
    "for x in range(2, n+1, 2):\n",
    "    hasil = hasil + x\n",
    "    print('Perulangan %d: Hasil = %d' %(x, hasil))"
   ]
  },
  {
   "cell_type": "markdown",
   "metadata": {},
   "source": [
    "## Nested Loop\n",
    "Nested loop adalah _loop_ di dalam _loop_."
   ]
  },
  {
   "cell_type": "code",
   "execution_count": 20,
   "metadata": {
    "collapsed": false
   },
   "outputs": [
    {
     "name": "stdout",
     "output_type": "stream",
     "text": [
      "*****\n",
      "*****\n",
      "*****\n",
      "*****\n",
      "*****\n"
     ]
    }
   ],
   "source": [
    "for i in range(1, 6):\n",
    "    print \"*****\""
   ]
  },
  {
   "cell_type": "code",
   "execution_count": 31,
   "metadata": {
    "collapsed": false
   },
   "outputs": [
    {
     "name": "stdout",
     "output_type": "stream",
     "text": [
      "Masukkan bintang: 5\n",
      "Masukkan karakter: 'a'\n",
      "a a a a a \n",
      "a a a a a \n",
      "a a a a a \n",
      "a a a a a \n",
      "a a a a a \n"
     ]
    }
   ],
   "source": [
    "# Print bintang dengan model seperti berikut\n",
    "\"\"\"\n",
    "\n",
    "*****\n",
    "*****\n",
    "*****\n",
    "*****\n",
    "*****\n",
    "\n",
    "\"\"\"\n",
    "n_bintang = input('Masukkan bintang: ')\n",
    "karakter = input('Masukkan karakter: ')\n",
    "\n",
    "for i in range(1, n_bintang+1):\n",
    "    for j in range(1, n_bintang+1):\n",
    "        print karakter,\n",
    "    print '\\r'   "
   ]
  },
  {
   "cell_type": "code",
   "execution_count": 32,
   "metadata": {
    "collapsed": false
   },
   "outputs": [
    {
     "name": "stdout",
     "output_type": "stream",
     "text": [
      "* \r\n",
      "* * \r\n",
      "* * * \r\n",
      "* * * * \r\n",
      "* * * * * \r\n"
     ]
    }
   ],
   "source": [
    "# Print bintang dengan model seperti berikut\n",
    "\"\"\"\n",
    "\n",
    "*\n",
    "**\n",
    "***\n",
    "****\n",
    "*****\n",
    "\n",
    "\"\"\"\n",
    "\n",
    "for i in range(1, 6):\n",
    "    for j in range(0, i):\n",
    "        print '*',\n",
    "    print '\\r'"
   ]
  },
  {
   "cell_type": "code",
   "execution_count": 33,
   "metadata": {
    "collapsed": false
   },
   "outputs": [
    {
     "name": "stdout",
     "output_type": "stream",
     "text": [
      "* * * * * \r\n",
      "* * * * \r\n",
      "* * * \r\n",
      "* * \r\n",
      "* \r\n"
     ]
    }
   ],
   "source": [
    "# Print bintang dengan model seperti berikut\n",
    "\"\"\"\n",
    "\n",
    "*****\n",
    "****\n",
    "***\n",
    "**\n",
    "*\n",
    "\n",
    "\"\"\"\n",
    "\n",
    "for i in range(1, 6):\n",
    "    for j in range(6, i, -1):\n",
    "        print '*',\n",
    "    print '\\r'"
   ]
  },
  {
   "cell_type": "code",
   "execution_count": 34,
   "metadata": {
    "collapsed": false
   },
   "outputs": [
    {
     "name": "stdout",
     "output_type": "stream",
     "text": [
      "        *\r\n",
      "      *\r\n",
      "    *\r\n",
      "  *\r\n",
      "*\r\n"
     ]
    }
   ],
   "source": [
    "# Print bintang dengan model seperti berikut\n",
    "\"\"\"\n",
    "\n",
    "    *\n",
    "   *\n",
    "  *\n",
    " *\n",
    "*\n",
    "\n",
    "\"\"\"\n",
    "for i in range(1, 6):\n",
    "    for j in range (i, 5):\n",
    "        print ' ',\n",
    "    print '*\\r'\n"
   ]
  },
  {
   "cell_type": "code",
   "execution_count": 43,
   "metadata": {
    "collapsed": false
   },
   "outputs": [
    {
     "name": "stdout",
     "output_type": "stream",
     "text": [
      "        * \r\n",
      "      * * \r\n",
      "    * * * \r\n",
      "  * * * * \r\n",
      "* * * * * \r\n"
     ]
    }
   ],
   "source": [
    "# Print bintang dengan model seperti berikut\n",
    "\"\"\"\n",
    "\n",
    "    *\n",
    "   **\n",
    "  ***\n",
    " ****\n",
    "*****\n",
    "\n",
    "\"\"\"\n",
    "for i in range(1, 6):\n",
    "    for j in range (i, 5):\n",
    "        print ' ',\n",
    "    for k in range(0, i):\n",
    "        print '*',\n",
    "    print '\\r'"
   ]
  },
  {
   "cell_type": "code",
   "execution_count": 44,
   "metadata": {
    "collapsed": false
   },
   "outputs": [
    {
     "data": {
      "text/plain": [
       "'\\n  *\\n ***\\n*****\\n ***\\n  *\\n'"
      ]
     },
     "execution_count": 44,
     "metadata": {},
     "output_type": "execute_result"
    }
   ],
   "source": [
    "# Print bintang dengan model seperti berikut\n",
    "\"\"\"\n",
    "  *\n",
    " ***\n",
    "*****\n",
    " ***\n",
    "  *\n",
    "\"\"\"\n"
   ]
  },
  {
   "cell_type": "code",
   "execution_count": null,
   "metadata": {
    "collapsed": true
   },
   "outputs": [],
   "source": []
  }
 ],
 "metadata": {
  "kernelspec": {
   "display_name": "Python 2",
   "language": "python",
   "name": "python2"
  },
  "language_info": {
   "codemirror_mode": {
    "name": "ipython",
    "version": 2
   },
   "file_extension": ".py",
   "mimetype": "text/x-python",
   "name": "python",
   "nbconvert_exporter": "python",
   "pygments_lexer": "ipython2",
   "version": "2.7.13"
  }
 },
 "nbformat": 4,
 "nbformat_minor": 2
}
