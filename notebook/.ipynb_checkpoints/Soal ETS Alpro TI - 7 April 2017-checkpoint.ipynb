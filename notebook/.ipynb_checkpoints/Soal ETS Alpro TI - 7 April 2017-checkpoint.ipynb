{
 "cells": [
  {
   "cell_type": "markdown",
   "metadata": {},
   "source": [
    "# Soal ETS Algoritma dan Pemrograman (Kelas C)\n",
    "Departemen Teknik Industri - FTI - ITS  \n",
    "Semester Genap 2016/2017  \n",
    "Dosen: Abdul Munif  \n",
    "Sifat: **TERBUKA**  \n",
    "\n",
    "Hari/tanggal: Jumat/7 April 2017  \n",
    "Waktu: 13.30-16.00 WIB\n",
    "\n",
    "**Catatan**  \n",
    "Meskipun sifatnya terbuka, mahasiswa tidak diperkenankan melihat atau memodifikasi kode program mahasiswa lain. Apabila ditemukan kecurangan, maka akan mendapatkan sanksi **nilai E** pada mata kuliah ini."
   ]
  },
  {
   "cell_type": "markdown",
   "metadata": {},
   "source": [
    "# Soal 1\n",
    "1. Buatlah sebuah file dengan nama `alpro-nrp-namadepan-soal1.py`.\n",
    "2. Di dalamnya buatlah kode program untuk menampilkan faktor persekutuan dari dua bilangan.  \n",
    "Contoh tampilannya adalah sebagai berikut.\n",
    "\t```\n",
    "\tMasukkan bilangan pertama: 4\n",
    "\tMasukkan bilangan kedua: 8\n",
    "\tFaktor persekutuan dua bilangan tersebut adalah:\n",
    "\t1 2 4\n",
    "\t```"
   ]
  },
  {
   "cell_type": "markdown",
   "metadata": {},
   "source": [
    "# Soal 2\n",
    "1. Buatlah sebuah file dengan nama `alpro-nrp-namadepan-soal2.py`.\n",
    "2. Buatlah kode program yang dapat menampilkan deret bilangan berikut sesuai dengan jumlah baris yang diinginkan.  \n",
    "Contoh 1:\n",
    "\t```\n",
    "\tMasukkan jumlah baris: 3\n",
    "\t1\n",
    "\t2 3\n",
    "\t4 5 6\n",
    "\t```\n",
    "Contoh 2:\n",
    "\t```\n",
    "\tMasukkan jumlah baris: 5\n",
    "\t1\n",
    "\t2 3\n",
    "\t4 5 6\n",
    "\t7 8 9 10\n",
    "\t11 12 13 14 15\n",
    "\t```"
   ]
  },
  {
   "cell_type": "markdown",
   "metadata": {},
   "source": [
    "# Soal 3\n",
    "1. Buatlah sebuah file dengan nama `alpro-nrp-namadepan-soal3.py`.\n",
    "2. Buatlah sebuah program suit Jepang dengan ketentuan sebagai berikut:\n",
    "    * Pilihan batu dilambangkan dengan angka 0, gunting 2, kertas 5.\n",
    "    * Aturan menangnya mengikuti aturan standar.\n",
    "    * Permainan terdiri dari 5 ronde.\n",
    "    * Setiap ronde ditampilkan hasil dari ronde tersebut.\n",
    "    * Setelah 5 kali bermain, maka tampilkan hasil menang pemain 1, pemain 2, hasil seri, dan hasil akhir permainan.  \n",
    "    Contoh tampilannya adalah sebagai berikut.\n",
    "    ```\n",
    "    Ronde 1\n",
    "    Masukkan pilihan pemain 1: 0\n",
    "    Masukkan pilihan pemain 2: 2\n",
    "    Pemain 1 menang\n",
    "    Ronde 2\n",
    "    Masukkan pilihan pemain 1: 0\n",
    "    Masukkan pilihan pemain 2: 0\n",
    "    Seri\n",
    "    Ronde 3\n",
    "    Masukkan pilihan pemain 1: 2\n",
    "    Masukkan pilihan pemain 2: 0\n",
    "    Pemain 2 menang\n",
    "    Ronde 4\n",
    "    Masukkan pilihan pemain 1: 5\n",
    "    Masukkan pilihan pemain 2: 2\n",
    "    Pemain 2 menang\n",
    "    Ronde 5\n",
    "    Masukkan pilihan pemain 1: 2\n",
    "    Masukkan pilihan pemain 2: 2\n",
    "    Seri\n",
    "    Pemain 1 menang 1 kali\n",
    "    Pemain 2 menang 2 kali\n",
    "    Hasil seri 2 kali\n",
    "    Maka, pemain 2 yang menang\n",
    "    ```"
   ]
  },
  {
   "cell_type": "markdown",
   "metadata": {},
   "source": [
    "## Pengumpulan\n",
    "Kumpulkan jawaban kalian dengan cara mengirimkan email ke `munif.if@gmail.com` dengan subjek: `[ALPRO-C] NRP - Nama - ETS`.  \n",
    "File yang perlu di-attach:\n",
    "1. alpro-nrp-namadepan-soal1.py\n",
    "2. alpro-nrp-namadepan-soal2.py\n",
    "3. alpro-nrp-namadepan-soal3.py"
   ]
  },
  {
   "cell_type": "code",
   "execution_count": null,
   "metadata": {
    "collapsed": true
   },
   "outputs": [],
   "source": []
  }
 ],
 "metadata": {
  "kernelspec": {
   "display_name": "Python 2",
   "language": "python",
   "name": "python2"
  },
  "language_info": {
   "codemirror_mode": {
    "name": "ipython",
    "version": 2
   },
   "file_extension": ".py",
   "mimetype": "text/x-python",
   "name": "python",
   "nbconvert_exporter": "python",
   "pygments_lexer": "ipython2",
   "version": "2.7.13"
  }
 },
 "nbformat": 4,
 "nbformat_minor": 0
}
